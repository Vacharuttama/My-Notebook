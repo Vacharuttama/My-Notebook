{
 "cells": [
  {
   "cell_type": "markdown",
   "id": "30d5d278-0a05-4c6b-9064-9c0403de1439",
   "metadata": {},
   "source": [
    "## Data Science Tools and Ecosystem\n",
    "    welcome to Data Science Tools and Ecosystem that will make you fun."
   ]
  },
  {
   "cell_type": "markdown",
   "id": "b314d7e2-4fcc-45b4-9763-e0c14e88ab2b",
   "metadata": {
    "tags": []
   },
   "source": [
    "## Some of the popular languages that Data Scientists use are:\n",
    "1. Python\n",
    "2. R\n",
    "3. Java\n",
    "4. SQL"
   ]
  },
  {
   "cell_type": "markdown",
   "id": "bf82f114-ea8c-42e3-a861-89e00c2ab0f2",
   "metadata": {},
   "source": [
    "## Some of the commonly used libraries used by Data Scientists include:\n",
    "1. NumPy\n",
    "2. Matplotlib\n",
    "3. Seaborn\n",
    "4. SciPy"
   ]
  },
  {
   "cell_type": "markdown",
   "id": "7dd64b39-b64f-40cf-b213-628d0faaa0be",
   "metadata": {},
   "source": [
    "## Data Science Tools"
   ]
  },
  {
   "cell_type": "markdown",
   "id": "c9d5eb8c-ed99-44d1-afc4-e4dc3251ddb9",
   "metadata": {},
   "source": [
    "| Data Science Tools |\n",
    "| -------------|\n",
    "| MySQL |\n",
    "| mongoDB |\n",
    "| Jupyter |\n",
    "| RStudio |"
   ]
  },
  {
   "cell_type": "markdown",
   "id": "8a09d1e9-468f-4b13-86eb-3211cb1b12f3",
   "metadata": {},
   "source": [
    "## Below are a few examples of evaluating arithmetic expressions in Python."
   ]
  },
  {
   "cell_type": "code",
   "execution_count": 8,
   "id": "e512161e-fbe7-488d-bffa-27f85e17a1c1",
   "metadata": {
    "tags": []
   },
   "outputs": [
    {
     "data": {
      "text/plain": [
       "17"
      ]
     },
     "execution_count": 8,
     "metadata": {},
     "output_type": "execute_result"
    }
   ],
   "source": [
    "# This is a simple arithmetic expression to multiply then add integers\n",
    "(3*4)+5"
   ]
  },
  {
   "cell_type": "code",
   "execution_count": 9,
   "id": "70b211aa-3470-4a9b-be45-2ea609b45e20",
   "metadata": {
    "tags": []
   },
   "outputs": [
    {
     "data": {
      "text/plain": [
       "3.3333333333333335"
      ]
     },
     "execution_count": 9,
     "metadata": {},
     "output_type": "execute_result"
    }
   ],
   "source": [
    "# This will convert 200 minutes to hours by dividing by 60\n",
    "200/60"
   ]
  },
  {
   "cell_type": "markdown",
   "id": "dbe44778-faba-4d5c-9387-d521ecd4aa18",
   "metadata": {
    "tags": []
   },
   "source": [
    "**Objectives:**\n",
    "- Learn Python, R and SQL.\n",
    "- Use MySQL in the case.\n",
    "- Learn many type of data.\n",
    "- Use GitHub to share your resources."
   ]
  },
  {
   "cell_type": "markdown",
   "id": "d034668a-73cf-4901-b7b1-970ec0cb3bf7",
   "metadata": {},
   "source": [
    "## Author\n",
    " Vacharut Petchrat"
   ]
  },
  {
   "cell_type": "code",
   "execution_count": null,
   "id": "531ecf1d-da8c-416c-8aca-1e6c3328716c",
   "metadata": {},
   "outputs": [],
   "source": []
  }
 ],
 "metadata": {
  "kernelspec": {
   "display_name": "Python",
   "language": "python",
   "name": "conda-env-python-py"
  },
  "language_info": {
   "codemirror_mode": {
    "name": "ipython",
    "version": 3
   },
   "file_extension": ".py",
   "mimetype": "text/x-python",
   "name": "python",
   "nbconvert_exporter": "python",
   "pygments_lexer": "ipython3",
   "version": "3.7.12"
  }
 },
 "nbformat": 4,
 "nbformat_minor": 5
}
